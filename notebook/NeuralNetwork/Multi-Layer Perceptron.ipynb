{
 "cells": [
  {
   "cell_type": "markdown",
   "metadata": {},
   "source": [
    "# 概要\n",
    "\n",
    "このノートブックでは,\n",
    "pytorchを用いてMLPの実装を行う"
   ]
  },
  {
   "cell_type": "code",
   "execution_count": 1,
   "metadata": {},
   "outputs": [],
   "source": [
    "import numpy as np\n",
    "import matplotlib.pyplot as plt\n",
    "%matplotlib inline"
   ]
  },
  {
   "cell_type": "code",
   "execution_count": 2,
   "metadata": {},
   "outputs": [],
   "source": [
    "#データの生成\n",
    "np.random.seed(0)\n",
    "data1 = np.random.randn(100, 2)+np.array([2,4])\n",
    "data2 = np.random.randn(100, 2)+np.array([4,2])\n",
    "data = np.r_[data1, data2]\n",
    "y = np.r_[np.zeros(100), np.ones(100)]"
   ]
  },
  {
   "cell_type": "code",
   "execution_count": 3,
   "metadata": {},
   "outputs": [
    {
     "data": {
      "image/png": "[encoded data removed]",
      "text/plain": [
       "<Figure size 432x288 with 1 Axes>"
      ]
     },
     "metadata": {
      "needs_background": "light"
     },
     "output_type": "display_data"
    }
   ],
   "source": [
    "#データ分布の可視化\n",
    "plt.figure()\n",
    "plt.plot(data1[:,0], data1[:,1], 'b.', label=\"class1\")\n",
    "plt.plot(data2[:,0], data2[:,1], 'r.', label=\"class2\")\n",
    "plt.legend()\n",
    "plt.show()\n",
    "plt.close()"
   ]
  },
  {
   "cell_type": "markdown",
   "metadata": {},
   "source": [
    "## Multi-layer perceptron"
   ]
  },
  {
   "cell_type": "code",
   "execution_count": 4,
   "metadata": {},
   "outputs": [],
   "source": [
    "import torch\n",
    "import torch.nn as nn\n",
    "import torch.nn.functional as F\n",
    "\n",
    "class MLP(nn.Module):\n",
    "    def __init__(self, *dims):\n",
    "        super().__init__()\n",
    "        self.depth = len(dims)\n",
    "        self.units = dims\n",
    "        \n",
    "        for i in range(self.depth-1):\n",
    "            layer = nn.Linear(self.units[i], self.units[i+1])\n",
    "            nn.init.kaiming_normal_(layer.weight, mode='fan_in', nonlinearity='relu')\n",
    "            setattr(self, f'fc{i+1}', layer)\n",
    "    \n",
    "    def forward(self, x):\n",
    "        out = x\n",
    "        for i in range(self.depth-2):\n",
    "            out = F.relu(getattr(self,f'fc{i+1}')(out))\n",
    "        return getattr(self, f'fc{self.depth-1}')(out)"
   ]
  },
  {
   "cell_type": "code",
   "execution_count": 5,
   "metadata": {},
   "outputs": [],
   "source": [
    "from torch.autograd import Variable\n",
    "import torch.utils.data\n",
    "from tqdm import tqdm\n",
    "import time\n",
    "\n",
    "class Solver(object):\n",
    "    def __init__(self, structure=[2, 50, 2], max_epoch = 10, batch_size = 128):\n",
    "        self.max_epoch = max_epoch\n",
    "        self.batch_size = batch_size\n",
    "        \n",
    "        if torch.cuda.is_available():\n",
    "            self.device = torch.device(\"cuda:0\")\n",
    "        else:\n",
    "            self.device = torch.device(\"cpu\")\n",
    "            \n",
    "        self.model = MLP(*structure).to(self.device)\n",
    "        \n",
    "        self.criterion = nn.CrossEntropyLoss()\n",
    "        self.optimizer = torch.optim.Adam(self.model.parameters())\n",
    "        \n",
    "    def fit(self, train_X, train_Y):\n",
    "        self.loss_list = []\n",
    "        self.num_class = int(np.max(train_Y)+1)\n",
    "        for epoch in tqdm(range(self.max_epoch)):\n",
    "            time.sleep(0.1)\n",
    "            self.loss_list.append(self._epoch_procedure(train_X, train_Y))\n",
    "            \n",
    "    def _epoch_procedure(self, train_X, train_Y):\n",
    "        self.model.train()\n",
    "        dataset = torch.utils.data.TensorDataset(torch.from_numpy(train_X).to(self.device), torch.from_numpy(train_Y).to(self.device))\n",
    "        loader = torch.utils.data.DataLoader(dataset, batch_size=self.batch_size, shuffle=True)\n",
    "        \n",
    "        running_loss = 0.0\n",
    "        for idx, (inputs, labels) in enumerate(loader):\n",
    "            inputs, labels = Variable(inputs).float(), Variable(labels).long()\n",
    "            \n",
    "            outputs = self.model(inputs)\n",
    "            loss = self.criterion(outputs, labels)\n",
    "            running_loss += loss.item()\n",
    "            \n",
    "            self.optimizer.zero_grad()\n",
    "            loss.backward()\n",
    "            self.optimizer.step()\n",
    "        return running_loss/len(loader)\n",
    "    \n",
    "    def predict_proba(self, test_X):\n",
    "        self.model.eval()\n",
    "        inputs = torch.from_numpy(test_X).to(self.device)\n",
    "        loader = torch.utils.data.DataLoader(inputs, batch_size=1, shuffle=False)\n",
    "        predict_proba=[]\n",
    "        for idx, (inputs) in enumerate(loader):\n",
    "            inputs = Variable(inputs).float()\n",
    "            outputs = self.model(inputs)\n",
    "            predict_proba.append(outputs.cpu().data.numpy())\n",
    "        return np.array(predict_proba).reshape(-1, self.num_class)\n",
    "    \n",
    "    def predict(self, test_X):\n",
    "        prob = self.predict_proba(test_X)\n",
    "        return np.argmax(prob, axis = 1)\n",
    "    \n",
    "    def score(self, test_X, test_Y):\n",
    "        predict_y = self.predict(test_X)\n",
    "        return 100*np.sum(test_Y==predict_y)/len(predict_y)"
   ]
  },
  {
   "cell_type": "code",
   "execution_count": 6,
   "metadata": {},
   "outputs": [
    {
     "name": "stderr",
     "output_type": "stream",
     "text": [
      "100%|██████████| 50/50 [00:05<00:00,  9.34it/s]\n"
     ]
    }
   ],
   "source": [
    "solver = Solver(structure=[2, 100,100, 2], max_epoch=50, batch_size=128)\n",
    "solver.fit(data, y)"
   ]
  },
  {
   "cell_type": "code",
   "execution_count": 7,
   "metadata": {},
   "outputs": [
    {
     "name": "stdout",
     "output_type": "stream",
     "text": [
      "score : 91.0%\n"
     ]
    }
   ],
   "source": [
    "print(f'score : {solver.score(data,y)}%')"
   ]
  },
  {
   "cell_type": "code",
   "execution_count": 8,
   "metadata": {},
   "outputs": [],
   "source": [
    "from matplotlib.colors import LinearSegmentedColormap\n",
    "def set_sklearn_backgound(cls, x_r, y_r):\n",
    "    N = 100\n",
    "\n",
    "    color_map = LinearSegmentedColormap.from_list(\"color_map\", [\n",
    "            (0.0, \"#0877bd\"),\n",
    "            (1.0, \"#f59322\"),])\n",
    "\n",
    "    X, Y = np.meshgrid(np.linspace(*x_r, N), np.linspace(*y_r, N))\n",
    "    X = np.hstack(X)\n",
    "    Y = np.hstack(Y)\n",
    "    Z=np.dstack((X, Y)).reshape(-1, 2)\n",
    "    Z = cls.predict(Z)\n",
    "    Z=Z.reshape(N,N)\n",
    "    X = X.reshape((N, -1))\n",
    "    Y = Y.reshape((N, -1))\n",
    "\n",
    "    plt.pcolor(X, Y, Z, cmap=color_map)"
   ]
  },
  {
   "cell_type": "code",
   "execution_count": 9,
   "metadata": {},
   "outputs": [
    {
     "data": {
      "image/png": "[encoded data removed]",
      "text/plain": [
       "<Figure size 432x288 with 1 Axes>"
      ]
     },
     "metadata": {
      "needs_background": "light"
     },
     "output_type": "display_data"
    }
   ],
   "source": [
    "x_r = [min(data[:,0]), max(data[:,0])]\n",
    "y_r = [min(data[:,1]), max(data[:,1])]\n",
    "set_sklearn_backgound(solver, x_r, y_r)\n",
    "plt.xlim(x_r)\n",
    "plt.ylim(y_r)\n",
    "t = np.linspace(start=min(data[:,0]), stop = max(data[:,0]), num=50)\n",
    "plt.plot(data1[:,0], data1[:,1], 'b.', label=\"class1\")\n",
    "plt.plot(data2[:,0], data2[:,1], 'r.', label=\"class2\")\n",
    "plt.legend()\n",
    "plt.show()\n",
    "plt.close()"
   ]
  },
  {
   "cell_type": "code",
   "execution_count": null,
   "metadata": {},
   "outputs": [],
   "source": []
  }
 ],
 "metadata": {
  "kernelspec": {
   "display_name": "Environment (conda_py37)",
   "language": "python",
   "name": "conda_py37"
  },
  "language_info": {
   "codemirror_mode": {
    "name": "ipython",
    "version": 3
   },
   "file_extension": ".py",
   "mimetype": "text/x-python",
   "name": "python",
   "nbconvert_exporter": "python",
   "pygments_lexer": "ipython3",
   "version": "3.7.3"
  }
 },
 "nbformat": 4,
 "nbformat_minor": 2
}
