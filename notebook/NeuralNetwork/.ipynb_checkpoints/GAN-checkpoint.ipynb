{
 "cells": [
  {
   "cell_type": "markdown",
   "metadata": {},
   "source": [
    "# 概要\n",
    "\n",
    "このノートブックでは,\n",
    "pytorchを用いてGANの実装を行う."
   ]
  },
  {
   "cell_type": "code",
   "execution_count": 1,
   "metadata": {},
   "outputs": [],
   "source": [
    "from keras.datasets import mnist"
   ]
  },
  {
   "cell_type": "code",
   "execution_count": 2,
   "metadata": {},
   "outputs": [],
   "source": [
    "(train_X, train_Y), (test_X, test_Y) = mnist.load_data()\n",
    "train_X, test_X = train_X.reshape(train_X.shape[0], -1), test_X.reshape(test_X.shape[0], -1)\n",
    "train_Y, test_Y = train_Y.reshape(-1), test_Y.reshape(-1)\n",
    "train_X, test_X = train_X/255, test_X/255"
   ]
  },
  {
   "cell_type": "markdown",
   "metadata": {},
   "source": [
    "## Generative Adversarial Network (GAN)"
   ]
  },
  {
   "cell_type": "code",
   "execution_count": 4,
   "metadata": {},
   "outputs": [],
   "source": [
    "import torch\n",
    "import torch.nn as nn\n",
    "import torch.nn.functional as F\n",
    "import torch.utils.data\n",
    "from torch.autograd import Variable\n",
    "import numpy as np\n",
    "import matplotlib.pyplot as plt\n",
    "%matplotlib inline"
   ]
  },
  {
   "cell_type": "code",
   "execution_count": 5,
   "metadata": {},
   "outputs": [],
   "source": [
    "class Model(nn.Module):\n",
    "    def __init__(self, *structure):\n",
    "        self.depth = len(structure)\n",
    "        self.units = structure\n",
    "        \n",
    "        for i in range(self.depth-1):\n",
    "            layer = nn.Linear(self.units[i], self.units[i+1])\n",
    "            nn.init.kaiming_normal_(layer.weight, mode=\"fan_in\", nonlinearity=\"relu\")\n",
    "            setattr(self, f'fc{i+1}', layer)\n",
    "            \n",
    "    def forward(self, x):\n",
    "        out = x\n",
    "        for i in range(self.depth-2):\n",
    "            out = F.relu(getattr(self, f'fc{i+1}')(out))\n",
    "        return torch.sigmoid(getattr(self, f'fc{self.depth-1}')(out))"
   ]
  },
  {
   "cell_type": "code",
   "execution_count": 6,
   "metadata": {},
   "outputs": [],
   "source": [
    "class Solver(nn.Module):\n",
    "    def __init__(self, max_epoch = 100, batch_size = 128, g_structure=[100, 300, 500, 784], d_structure=[784, 1024, 1024, 1]):\n",
    "        self.max_epoch = max_epoch\n",
    "        self.batch_size = batch_size\n",
    "        \n",
    "        if torch.cuda.is_available():\n",
    "            self.device = torch.device(\"cuda:0\")\n",
    "        else:\n",
    "            self.device = torch.device(\"cpu\")\n",
    "        \n",
    "        self.G = Model(*g_structure).to(self.device)\n",
    "        self.D = Model(*d_structure).to(self.device)\n",
    "        self.g_structure = g_structure\n",
    "        self.d_structure = d_structure\n",
    "        self.g_optimizer = torch.optim.Adam(self.G.parameters())\n",
    "        self.d_optimizer = torch.optim.Adam(self.D.parameters())\n",
    "        \n",
    "        self.criterion = nn.BCELoss()\n",
    "        \n",
    "    def fit(self, train_X):\n",
    "        self.g_loss = []\n",
    "        self.d_loss = []\n",
    "        for epoch in range(self.max_epoch):\n",
    "            g_loss, d_loss = self._epoch_procedure(train_X)\n",
    "            self.g_loss.append(g_loss)\n",
    "            self.d_loss.append(d_loss)\n",
    "            \n",
    "    def _epoch_procedure(self, train_X):\n",
    "        loader = torch.utils.data.DataLoader(torch.from_numpy(train_X).to(self.device), batch_size=self.batch_size, shuffle=True)\n",
    "        \n",
    "        running_d_loss = 0.0\n",
    "        running_g_loss = 0.0\n",
    "        for idx, (inputs) in enumerate(loader):\n",
    "            inputs = Variable(inputs).float()\n",
    "            real_label = torch.ones(inputs.size(0)).long()\n",
    "            fake_label = torch.zeros(inputs.size(0)).long()\n",
    "            z = np.random.normal(0.0, 1.0, (inputs.size(0), self.g_structure[0]))\n",
    "            z = torch.from_numpy(z).to(self.device)\n",
    "            z = Variable(z).float()\n",
    "            "
   ]
  },
  {
   "cell_type": "code",
   "execution_count": null,
   "metadata": {},
   "outputs": [],
   "source": []
  }
 ],
 "metadata": {
  "kernelspec": {
   "display_name": "Environment (conda_py37)",
   "language": "python",
   "name": "conda_py37"
  },
  "language_info": {
   "codemirror_mode": {
    "name": "ipython",
    "version": 3
   },
   "file_extension": ".py",
   "mimetype": "text/x-python",
   "name": "python",
   "nbconvert_exporter": "python",
   "pygments_lexer": "ipython3",
   "version": "3.7.3"
  }
 },
 "nbformat": 4,
 "nbformat_minor": 2
}
